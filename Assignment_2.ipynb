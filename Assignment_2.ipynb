{
 "cells": [
  {
   "attachments": {},
   "cell_type": "markdown",
   "metadata": {},
   "source": [
    "# Assignment 2: Sensitivity Analysis with PRCCs via LHS\n",
    "#### Moritz Kick, Rami El Immam, Maximilian Nowak"
   ]
  },
  {
   "cell_type": "code",
   "execution_count": 31,
   "metadata": {},
   "outputs": [],
   "source": [
    "import numpy as np\n",
    "from scipy.integrate import odeint\n",
    "import matplotlib.pyplot as plt\n",
    "import numpy.linalg as lin"
   ]
  },
  {
   "attachments": {},
   "cell_type": "markdown",
   "metadata": {},
   "source": [
    "# Implement the SEIR-Model from Assignment 1"
   ]
  },
  {
   "cell_type": "code",
   "execution_count": 2,
   "metadata": {},
   "outputs": [],
   "source": [
    "beta = 14/9  # infection rate\n",
    "alpha = 7/3  # incubation rate\n",
    "gamma = 7/9  # recovery rate\n",
    "i0 = 1000  # initial number of infected individuals\n",
    "\n",
    "# Define initial conditions\n",
    "N = 80e6\n",
    "S0 = N - i0\n",
    "E0 = 0\n",
    "I0 = i0\n",
    "R0 = 0\n",
    "C0 = I0\n",
    "y0 = [S0, E0, I0, R0, C0]\n",
    "\n",
    "# Define the system of differential equations\n",
    "def seirc(y, t, beta, alpha, gamma, N):\n",
    "    S, E, I, R, C = y\n",
    "    dSdt = -beta * S * I / N\n",
    "    dEdt = beta * S * I / N - alpha * E\n",
    "    dIdt = alpha * E - gamma * I\n",
    "    dRdt = gamma * I\n",
    "    DCdt = alpha * E\n",
    "    return [dSdt, dEdt, dIdt, dRdt, DCdt]"
   ]
  },
  {
   "attachments": {},
   "cell_type": "markdown",
   "metadata": {},
   "source": [
    "### 1. Implement the LHS method for $n$-dimensional uniformly distributed random vectors."
   ]
  },
  {
   "cell_type": "code",
   "execution_count": 3,
   "metadata": {},
   "outputs": [],
   "source": [
    "def latin_hypercube_uniform(dim, n_samples, low=0, high=1):\n",
    "    rand_matrix = np.empty((n_samples, dim))\n",
    "    subintervals, stepsize = np.linspace(0, 1, n_samples+1, retstep=True)\n",
    "    \n",
    "    # generate uniformely distributed samples\n",
    "    for i in range(dim):\n",
    "        for j, min in enumerate(subintervals[:-1]):\n",
    "            rand_matrix[j, i] = np.random.uniform(min, min+stepsize)\n",
    "\n",
    "    # permute the columns\n",
    "    for i in range(dim):\n",
    "        rand_matrix[:, i] = np.random.permutation(rand_matrix[:, i])\n",
    "        \n",
    "    return rand_matrix * (high - low) + low "
   ]
  },
  {
   "attachments": {},
   "cell_type": "markdown",
   "metadata": {},
   "source": [
    "### 2. Verify your implementation."
   ]
  },
  {
   "cell_type": "code",
   "execution_count": 4,
   "metadata": {},
   "outputs": [
    {
     "name": "stdout",
     "output_type": "stream",
     "text": [
      "(20, 2)\n"
     ]
    },
    {
     "data": {
      "image/png": "[encoded data removed]",
      "text/plain": [
       "<Figure size 500x500 with 1 Axes>"
      ]
     },
     "metadata": {},
     "output_type": "display_data"
    }
   ],
   "source": [
    "samples = latin_hypercube_uniform(2, 20)\n",
    "print(samples.shape)\n",
    "\n",
    "fig = plt.figure(figsize=(5,5))\n",
    "ax = fig.gca()\n",
    "ax.set_xlim([0, 1])\n",
    "ax.set_ylim([0, 1])\n",
    "ax.set_xticks(np.arange(0, 1.01, 0.05))\n",
    "ax.set_yticks(np.arange(0, 1.01, 0.05))\n",
    "ax.set_xticklabels([x if not i%2 else \"\" for i, x in enumerate(ax.get_xticklabels())])\n",
    "ax.set_yticklabels([y if not i%2 else \"\" for i, y in enumerate(ax.get_yticklabels())])\n",
    "plt.rc('grid', linestyle=\"--\", color='lightgrey')\n",
    "plt.grid()\n",
    "\n",
    "plt.plot(samples[:, 0], samples[:, 1], \".\", markersize=\"10\")\n",
    "plt.show()"
   ]
  },
  {
   "cell_type": "code",
   "execution_count": 5,
   "metadata": {},
   "outputs": [
    {
     "name": "stdout",
     "output_type": "stream",
     "text": [
      "[]\n",
      "[]\n"
     ]
    }
   ],
   "source": [
    "# as proof check for duplicate values\n",
    "\n",
    "u_col, c_col = np.unique(samples[:, 0], return_counts=True)\n",
    "print(u_col[c_col > 1])\n",
    "\n",
    "u_row, c_row = np.unique(samples[:, 1], return_counts=True)\n",
    "print(u_row[c_row > 1])"
   ]
  },
  {
   "attachments": {},
   "cell_type": "markdown",
   "metadata": {},
   "source": [
    "### 3. Implement the computation of PCCs (not $\\mathrm{P} R \\mathrm{CCs}$ )"
   ]
  },
  {
   "cell_type": "code",
   "execution_count": 91,
   "metadata": {},
   "outputs": [
    {
     "name": "stdout",
     "output_type": "stream",
     "text": [
      "[[0.60764046 1.58738051 1.13891271 8.96894346]\n",
      " [5.90198269 9.81622908 5.34844086 1.97889509]\n",
      " [7.77495547 3.5850063  3.46742104 7.00439459]\n",
      " [4.73871726 6.76844208 8.17972315 4.73370597]]\n",
      "[ 1.          0.84959801  0.84196498 -0.80795762]\n"
     ]
    }
   ],
   "source": [
    "def partial_corrcoef(X, y):\n",
    "    dim, N = X.shape\n",
    "    pcc = []\n",
    "    X = np.c_[X, np.ones(dim)]\n",
    "    \n",
    "    for i in range(N):\n",
    "        X_partial = np.delete(X, i, 1)\n",
    "        x_i = X[:, i]\n",
    "        \n",
    "        wx_i = lin.lstsq(X_partial, x_i, rcond=-1)[0]\n",
    "        x_res = x_i -  X_partial @ wx_i\n",
    "\n",
    "        wy_i = lin.lstsq(X_partial, y, rcond=-1)[0]\n",
    "        y_res = y - X_partial @ wy_i\n",
    "\n",
    "        pcc.append(x_res @ y_res / (np.sqrt(np.sum(x_res**2) * np.sum(y_res**2))))\n",
    "\n",
    "    return np.array(pcc).T\n",
    "\n",
    "X = np.array([[0.60764046, 1.58738051, 1.13891271, 8.96894346], \\\n",
    " [5.90198269, 9.81622908, 5.34844086, 1.97889509],\\\n",
    " [7.77495547, 3.5850063,  3.46742104, 7.00439459],\\\n",
    " [4.73871726, 6.76844208, 8.17972315, 4.73370597]])\n",
    "\n",
    "y = X[:, 0]\n",
    "print(X)\n",
    "pccs = partial_corrcoef(X, y)\n",
    "print(pccs)\n"
   ]
  },
  {
   "attachments": {},
   "cell_type": "markdown",
   "metadata": {},
   "source": [
    "### 4. Verify the PCC computation"
   ]
  },
  {
   "cell_type": "code",
   "execution_count": 93,
   "metadata": {},
   "outputs": [
    {
     "name": "stdout",
     "output_type": "stream",
     "text": [
      "[[1.]]\n",
      "[[0.86602326]]\n",
      "[[1. 1.]]\n",
      "[[0.90825    0.86575842]]\n",
      "[[ 0.04311136 -0.05836157]]\n"
     ]
    }
   ],
   "source": [
    "X1 = latin_hypercube_uniform(1, 1000, 0, 1)\n",
    "X2 = latin_hypercube_uniform(1, 1000, 0, 1)\n",
    "\n",
    "y = 4*X1\n",
    "print(partial_corrcoef(X1, y))\n",
    "\n",
    "y = X1**4\n",
    "print(partial_corrcoef(X1, y))\n",
    "\n",
    "y = X1 + X2\n",
    "print(partial_corrcoef(np.c_[X1, X2], y))\n",
    "\n",
    "y = X1 + X2**4\n",
    "print(partial_corrcoef(np.c_[X1, X2], y))\n",
    "\n",
    "y = X1 + np.tan(X2**(4))**(-1)\n",
    "print(partial_corrcoef(np.c_[X1, X2], y))"
   ]
  },
  {
   "attachments": {},
   "cell_type": "markdown",
   "metadata": {},
   "source": [
    "### 5. Find out how to easily compute PRCCs with the above function for PCCs."
   ]
  },
  {
   "cell_type": "code",
   "execution_count": 55,
   "metadata": {},
   "outputs": [],
   "source": [
    "def prcc(X, y):\n",
    "    X = X.argsort(axis=0).argsort(axis=0)\n",
    "    y = y.argsort().argsort()\n",
    "    return partial_corrcoef(X, y)"
   ]
  },
  {
   "attachments": {},
   "cell_type": "markdown",
   "metadata": {},
   "source": [
    "### 6. Construct the parameter domain $\\mathcal{X}$."
   ]
  },
  {
   "cell_type": "code",
   "execution_count": 56,
   "metadata": {},
   "outputs": [
    {
     "name": "stdout",
     "output_type": "stream",
     "text": [
      "[[   1    3]\n",
      " [   2   14]\n",
      " [   7   14]\n",
      " [ 500 2500]]\n"
     ]
    }
   ],
   "source": [
    "beta_range = [1, 3]  # average number of contacts per week\n",
    "alpha_range = [2, 14]  # mean latency period in days\n",
    "gamma_range = [7, 14]  # mean recovery period in days\n",
    "i0_range = [500, 2500]  # initial number of infected individuals\n",
    "\n",
    "param_domain = np.array([beta_range, alpha_range, gamma_range, i0_range])\n",
    "print(param_domain)"
   ]
  },
  {
   "attachments": {},
   "cell_type": "markdown",
   "metadata": {},
   "source": [
    "### 7. Estimate the PRCCs between $Y_{\\ell}=\\mathcal{G}_{\\ell}(\\boldsymbol{X}), \\ell=1,2$, and the input parameters $\\boldsymbol{X} \\sim \\mathcal{U}(\\mathcal{X})$ using $N=1,000$ LHS samples."
   ]
  },
  {
   "cell_type": "code",
   "execution_count": 57,
   "metadata": {},
   "outputs": [
    {
     "name": "stdout",
     "output_type": "stream",
     "text": [
      "(1000, 4)\n"
     ]
    },
    {
     "name": "stderr",
     "output_type": "stream",
     "text": [
      "/home/mnowak/miniconda3/envs/uq/lib/python3.11/site-packages/scipy/integrate/_odepack_py.py:248: ODEintWarning: Excess work done on this call (perhaps wrong Dfun type). Run with full_output = 1 to get quantitative information.\n",
      "  warnings.warn(warning_msg, ODEintWarning)\n"
     ]
    }
   ],
   "source": [
    "N_samples = 1000  # Number of LHS samples\n",
    "\n",
    "# simulation time\n",
    "T = 60\n",
    "t = np.linspace(0, T, T+1)\n",
    "\n",
    "x0 = (beta, alpha, gamma, N)\n",
    "y0 = S0, E0, I0, R0, C0\n",
    "\n",
    "lhs_samples = latin_hypercube_uniform(4, N_samples, low=param_domain[:, 0], high=param_domain[:, 1])\n",
    "print(lhs_samples.shape)\n",
    "\n",
    "# Run the SEIRC model for each set of LHS samples\n",
    "results_g1 = []\n",
    "results_g2 = []\n",
    "for i in range(N_samples):\n",
    "    beta, alpha, gamma, i0 = lhs_samples[i]\n",
    "    sol = odeint(seirc, y0, t, args=(beta, alpha, gamma, N))\n",
    "    \n",
    "    results_g1.append(sol[-1, 4])  # store the cumulative number of cases at the end of the simulation\n",
    "    results_g2.append(t[sol[:, 2].argmax()])  # store t at the max value of I\n",
    "\n",
    "results_g1 = np.array(results_g1)\n",
    "results_g2 = np.array(results_g2)\n",
    "\n",
    "# Compute PRCCs\n",
    "prcc_g1 = prcc(lhs_samples, results_g1)\n",
    "prcc_g2 = prcc(lhs_samples, results_g2)\n"
   ]
  },
  {
   "attachments": {},
   "cell_type": "markdown",
   "metadata": {},
   "source": [
    "### Display the PRCCs with a bar plot."
   ]
  },
  {
   "cell_type": "code",
   "execution_count": 58,
   "metadata": {},
   "outputs": [
    {
     "data": {
      "image/png": "[encoded data removed]",
      "text/plain": [
       "<Figure size 800x1000 with 2 Axes>"
      ]
     },
     "metadata": {},
     "output_type": "display_data"
    }
   ],
   "source": [
    "labels = [r'$\\beta$', r'$\\alpha$', r'$\\gamma$', r'$I_0$']\n",
    "\n",
    "fig, (ax1, ax2) = plt.subplots(2, 1, figsize=(8, 10))\n",
    "\n",
    "ax1.bar(labels, prcc_g1)\n",
    "ax1.set_ylabel('PRCC')\n",
    "ax2.set_title('PRCCs for G1 (cumulative number of cases)')\n",
    "\n",
    "ax2.bar(labels, prcc_g2)\n",
    "ax2.set_ylabel('PRCC')\n",
    "ax1.set_title('PRCCs for G2 (t at maximum number of infectuous people)')\n",
    "\n",
    "plt.tight_layout()\n",
    "plt.show()\n"
   ]
  }
 ],
 "metadata": {
  "kernelspec": {
   "display_name": "base",
   "language": "python",
   "name": "python3"
  },
  "language_info": {
   "codemirror_mode": {
    "name": "ipython",
    "version": 3
   },
   "file_extension": ".py",
   "mimetype": "text/x-python",
   "name": "python",
   "nbconvert_exporter": "python",
   "pygments_lexer": "ipython3",
   "version": "3.11.0"
  },
  "orig_nbformat": 4
 },
 "nbformat": 4,
 "nbformat_minor": 2
}
