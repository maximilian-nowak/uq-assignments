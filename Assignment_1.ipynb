{
 "cells": [
  {
   "attachments": {},
   "cell_type": "markdown",
   "metadata": {},
   "source": [
    "# Assigment 1: Primitive Sensitivity Analysis\n",
    "#### Moritz Kick, Rami El Immam, Maximilian Nowak"
   ]
  },
  {
   "attachments": {},
   "cell_type": "markdown",
   "metadata": {},
   "source": [
    "## Implementation of the model\n",
    "### 1. Implement SEIR model"
   ]
  },
  {
   "cell_type": "code",
   "execution_count": 1,
   "metadata": {},
   "outputs": [],
   "source": [
    "import numpy as np\n",
    "import matplotlib.pyplot as plt\n",
    "from scipy.integrate import odeint\n",
    "import ipywidgets as widgets\n",
    "from IPython.display import display\n",
    "\n",
    "beta = 14/9 # infection rate\n",
    "alpha = 7/3 # incubation rate\n",
    "gamma = 7/9 # recovery rate\n",
    "i0 = 1000 # initial number of infected individuals\n",
    "\n",
    "# Define initial conditions\n",
    "N = 80e6\n",
    "S0 = N - i0\n",
    "E0 = 0\n",
    "I0 = i0\n",
    "R0 = 0\n",
    "y0 = [S0, E0, I0, R0]\n",
    "\n",
    "# Define the system of differential equations\n",
    "def seir_model(y, t, beta, alpha, gamma, N):\n",
    "    S, E, I, R = y\n",
    "    dSdt = -beta * S * I / N\n",
    "    dEdt = beta * S * I / N - alpha * E\n",
    "    dIdt = alpha * E - gamma * I\n",
    "    dRdt = gamma * I\n",
    "    return [dSdt, dEdt, dIdt, dRdt]\n",
    "\n",
    "# Define time points (100 Weeks)\n",
    "t = np.linspace(0, 100, 100)\n"
   ]
  },
  {
   "attachments": {},
   "cell_type": "markdown",
   "metadata": {},
   "source": [
    "### 2. & 3. Plot and play with the parameters"
   ]
  },
  {
   "cell_type": "code",
   "execution_count": 2,
   "metadata": {},
   "outputs": [
    {
     "data": {
      "application/vnd.jupyter.widget-view+json": {
       "model_id": "b8085fb2e61f4d888c68f5462caf1966",
       "version_major": 2,
       "version_minor": 0
      },
      "text/plain": [
       "interactive(children=(FloatSlider(value=0.5, description='beta:', max=5.0, step=0.01), FloatSlider(value=0.2, …"
      ]
     },
     "metadata": {},
     "output_type": "display_data"
    }
   ],
   "source": [
    "# Define sliders for parameters\n",
    "beta_slider = widgets.FloatSlider(\n",
    "    value=0.5, min=0.0, max=5.0, step=0.01, description='beta:')\n",
    "alpha_slider = widgets.FloatSlider(\n",
    "    value=0.2, min=0.0, max=5.0, step=0.01, description='alpha:')\n",
    "gamma_slider = widgets.FloatSlider(\n",
    "    value=0.1, min=0.0, max=5.0, step=0.01, description='gamma:')\n",
    "i0_slider = widgets.IntSlider(\n",
    "    value=1000, min=0, max=N, step=1e6, description='i0:')\n",
    "\n",
    "# Define a function to update the plot\n",
    "\n",
    "\n",
    "def update_plot(beta, alpha, gamma, i0):\n",
    "    sol = odeint(seir_model, y0, t, args=(beta, alpha, gamma, N))\n",
    "    S, E, I, R = sol.T\n",
    "    plt.figure(figsize=(10, 6))\n",
    "    plt.plot(t, S, 'b', label='Susceptible')\n",
    "    plt.plot(t, E, 'r', label='Exposed')\n",
    "    plt.plot(t, I, 'g', label='Infected')\n",
    "    plt.plot(t, R, 'm', label='Recovered')\n",
    "    plt.title('SEIR Model')\n",
    "    plt.xlabel('Time (weeks)')\n",
    "    plt.ylabel('Population')\n",
    "    plt.legend()\n",
    "    plt.show()\n",
    "\n",
    "\n",
    "# Display the plot and sliders\n",
    "interactive_plot = widgets.interactive(\n",
    "    update_plot, beta=beta_slider, alpha=alpha_slider, gamma=gamma_slider, i0=i0_slider)\n",
    "output = interactive_plot.children[-1]\n",
    "output.layout.height = '350px'\n",
    "display(interactive_plot)\n"
   ]
  },
  {
   "attachments": {},
   "cell_type": "markdown",
   "metadata": {},
   "source": [
    "## Perturbation of a nominal value\n",
    "### 4. Define Hk in mathematical terms"
   ]
  },
  {
   "cell_type": "code",
   "execution_count": null,
   "metadata": {},
   "outputs": [],
   "source": []
  }
 ],
 "metadata": {
  "kernelspec": {
   "display_name": "base",
   "language": "python",
   "name": "python3"
  },
  "language_info": {
   "codemirror_mode": {
    "name": "ipython",
    "version": 3
   },
   "file_extension": ".py",
   "mimetype": "text/x-python",
   "name": "python",
   "nbconvert_exporter": "python",
   "pygments_lexer": "ipython3",
   "version": "3.10.6"
  },
  "orig_nbformat": 4
 },
 "nbformat": 4,
 "nbformat_minor": 2
}
