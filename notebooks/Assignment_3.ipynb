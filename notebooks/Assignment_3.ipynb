{
 "cells": [
  {
   "attachments": {},
   "cell_type": "markdown",
   "metadata": {},
   "source": [
    "# Assignment 3: Sensitivity Analysis with Sobol Indices\n",
    "#### Moritz Kick, Maximilian Nowak"
   ]
  },
  {
   "cell_type": "code",
   "execution_count": 1,
   "metadata": {},
   "outputs": [
    {
     "name": "stdout",
     "output_type": "stream",
     "text": [
      "The `sinfo` package has changed name and is now called `session_info` to become more discoverable and self-explanatory. The `sinfo` PyPI package will be kept around to avoid breaking old installs and you can downgrade to 0.3.2 if you want to use it without seeing this message. For the latest features and bug fixes, please install `session_info` instead. The usage and defaults also changed slightly, so please review the latest README at https://gitlab.com/joelostblom/session_info.\n",
      "-----\n",
      "matplotlib  3.6.2\n",
      "numpy       1.23.5\n",
      "sinfo       0.3.4\n",
      "-----\n",
      "IPython             8.10.0\n",
      "jupyter_client      7.4.9\n",
      "jupyter_core        5.2.0\n",
      "jupyterlab          3.5.3\n",
      "notebook            6.5.4\n",
      "-----\n",
      "Python 3.11.0 (main, Mar  1 2023, 18:26:19) [GCC 11.2.0]\n",
      "Linux-5.10.16.3-microsoft-standard-WSL2-x86_64-with-glibc2.31\n",
      "8 logical CPU cores, x86_64\n",
      "-----\n",
      "Session information updated at 2023-06-22 14:07\n"
     ]
    }
   ],
   "source": [
    "# Import modules from source\n",
    "import os, sys\n",
    "module_path = os.path.abspath(os.path.join('../src'))\n",
    "if module_path not in sys.path:\n",
    "    sys.path.append(module_path)\n",
    "\n",
    "import numpy as np\n",
    "import matplotlib.pyplot as plt\n",
    "import numpy.linalg as lin\n",
    "\n",
    "from sinfo import sinfo\n",
    "sinfo()"
   ]
  },
  {
   "attachments": {},
   "cell_type": "markdown",
   "metadata": {},
   "source": [
    "## Implementation of Sobol indices"
   ]
  },
  {
   "attachments": {},
   "cell_type": "markdown",
   "metadata": {},
   "source": [
    "### 1. Implement the construction of Sobol matrices"
   ]
  },
  {
   "cell_type": "code",
   "execution_count": 2,
   "metadata": {},
   "outputs": [],
   "source": [
    "from assignment3.sobol import create_sobol_matrices\n",
    "\n",
    "pass"
   ]
  },
  {
   "attachments": {},
   "cell_type": "markdown",
   "metadata": {},
   "source": [
    "### 2. Implement the computation of Sobol total-effect indices"
   ]
  },
  {
   "cell_type": "code",
   "execution_count": 3,
   "metadata": {},
   "outputs": [],
   "source": [
    "from assignment3.sobol import compute_total_indices\n",
    "\n",
    "pass"
   ]
  },
  {
   "attachments": {},
   "cell_type": "markdown",
   "metadata": {},
   "source": [
    "### 3. Verify your implementation"
   ]
  },
  {
   "attachments": {},
   "cell_type": "markdown",
   "metadata": {},
   "source": [
    "##### Test construction of Sobol matrices with different matrix sizes"
   ]
  },
  {
   "cell_type": "code",
   "execution_count": 4,
   "metadata": {},
   "outputs": [
    {
     "name": "stdout",
     "output_type": "stream",
     "text": [
      "Test 3x3 input matrices:\n",
      "A:\n",
      " [[0.6127 0.0822 0.5487]\n",
      " [0.2111 0.8634 0.2055]\n",
      " [0.9458 0.6429 0.9138]]\n",
      "B:\n",
      " [[0.8181 0.6286 0.6262]\n",
      " [0.1193 0.7333 0.1834]\n",
      " [0.427  0.1814 0.8167]]\n",
      "A_B:\n",
      " [[[0.8181 0.0822 0.5487]\n",
      "  [0.1193 0.8634 0.2055]\n",
      "  [0.427  0.6429 0.9138]]\n",
      "\n",
      " [[0.6127 0.6286 0.5487]\n",
      "  [0.2111 0.7333 0.2055]\n",
      "  [0.9458 0.1814 0.9138]]\n",
      "\n",
      " [[0.6127 0.0822 0.6262]\n",
      "  [0.2111 0.8634 0.1834]\n",
      "  [0.9458 0.6429 0.8167]]]\n",
      "\n",
      "Test 4x4 input matrices:\n",
      "A:\n",
      " [[0.2816 0.5223 0.0488 0.0385]\n",
      " [0.8667 0.0094 0.4689 0.4313]\n",
      " [0.6979 0.8684 0.7289 0.7305]\n",
      " [0.0976 0.4235 0.8355 0.9709]]\n",
      "B:\n",
      " [[0.7116 0.9653 0.4167 0.7644]\n",
      " [0.7742 0.5517 0.9872 0.7011]\n",
      " [0.1675 0.3763 0.0799 0.2417]\n",
      " [0.4693 0.0178 0.55   0.4412]]\n",
      "A_B:\n",
      " [[[0.7116 0.5223 0.0488 0.0385]\n",
      "  [0.7742 0.0094 0.4689 0.4313]\n",
      "  [0.1675 0.8684 0.7289 0.7305]\n",
      "  [0.4693 0.4235 0.8355 0.9709]]\n",
      "\n",
      " [[0.2816 0.9653 0.0488 0.0385]\n",
      "  [0.8667 0.5517 0.4689 0.4313]\n",
      "  [0.6979 0.3763 0.7289 0.7305]\n",
      "  [0.0976 0.0178 0.8355 0.9709]]\n",
      "\n",
      " [[0.2816 0.5223 0.4167 0.0385]\n",
      "  [0.8667 0.0094 0.9872 0.4313]\n",
      "  [0.6979 0.8684 0.0799 0.7305]\n",
      "  [0.0976 0.4235 0.55   0.9709]]\n",
      "\n",
      " [[0.2816 0.5223 0.0488 0.7644]\n",
      "  [0.8667 0.0094 0.4689 0.7011]\n",
      "  [0.6979 0.8684 0.7289 0.2417]\n",
      "  [0.0976 0.4235 0.8355 0.4412]]]\n",
      "\n"
     ]
    }
   ],
   "source": [
    "from assignment2.lhs import latin_hypercube_uniform\n",
    "\n",
    "for n_samples, dim in [(3,3), (4,4)]:\n",
    "    A, B = latin_hypercube_uniform(dim, n_samples), latin_hypercube_uniform(dim, n_samples)  # Generate random samples\n",
    "    A_B = create_sobol_matrices(A, B)  # Get sobol matrices\n",
    "\n",
    "    print(\"Test %ix%i input matrices:\" % (n_samples, dim))\n",
    "    print(\"A:\\n %s\" % np.round(A, 4))\n",
    "    print(\"B:\\n %s\" % np.round(B, 4))\n",
    "    print(\"A_B:\\n %s\\n\" % np.round(A_B, 4))"
   ]
  },
  {
   "attachments": {},
   "cell_type": "markdown",
   "metadata": {},
   "source": [
    "##### Test computation of total-effect Sobol indices"
   ]
  },
  {
   "cell_type": "code",
   "execution_count": 29,
   "metadata": {},
   "outputs": [
    {
     "name": "stdout",
     "output_type": "stream",
     "text": [
      "f = x1 + x2\n",
      "STi[x1, x2]: 0.501630, 0.503659\n",
      "\tSum: 1.005289\n",
      "f = 2*x1 + x2\n",
      "STi[x1, x2]: 0.802256, 0.201375\n",
      "\tSum: 1.003631\n",
      "f = sqrt(2)*x1 + x2\n",
      "STi[x1, x2]: 0.668756, 0.335730\n",
      "\tSum: 1.004486\n",
      "f = sqrt(2)*x1 + 10*x1x2 + x2\n",
      "STi[x1, x2]: 0.578208, 0.519421\n",
      "\tSum: 1.097630\n",
      "f = sqrt(2)*x1 + log(x1x2) + x2\n",
      "STi[x1, x2]: 0.543847, 0.459542\n",
      "\tSum: 1.003389\n"
     ]
    }
   ],
   "source": [
    "from assignment2.lhs import latin_hypercube_uniform\n",
    "\n",
    "# Generate matrices with Latin hypercube samples\n",
    "n_samples = 100000\n",
    "dim = 2\n",
    "A, B = latin_hypercube_uniform(dim, n_samples), latin_hypercube_uniform(dim, n_samples)\n",
    "\n",
    "# Get sobol matrices\n",
    "A_B = create_sobol_matrices(A, B)\n",
    "\n",
    "# Define the functions to be tested\n",
    "funcs = {\n",
    "    'f = x1 + x2': lambda X: X[:, 0] + X[:, 1],\n",
    "    'f = 2*x1 + x2': lambda X: 2*X[:, 0] + X[:, 1],\n",
    "    'f = sqrt(2)*x1 + x2': lambda X: (2**(1/2))*X[:, 0] + X[:, 1],\n",
    "    'f = sqrt(2)*x1 + 10*x1x2 + x2': lambda X: (2**(1/2))*X[:, 0] + 10*(X[:, 0]*X[:, 1]) + X[:, 1],\n",
    "    'f = sqrt(2)*x1 + log(x1x2) + x2': lambda X: (2**(1/2))*X[:, 0] + np.log(X[:, 0]*X[:, 1]) + X[:, 1],\n",
    "}\n",
    "\n",
    "# Compute indicies and display results\n",
    "for fname, f in funcs.items():\n",
    "    f_A = f(A)\n",
    "    f_AB = np.array([f(X) for X in A_B])\n",
    "    r = compute_total_indices(f_A, f_AB)\n",
    "    print(fname)\n",
    "    print(\"STi[x1, x2]: %.6f, %.6f\" % (r[0], r[1]))\n",
    "    print(\"\\tSum: %.6f\" % (np.sum(r)))"
   ]
  },
  {
   "attachments": {},
   "cell_type": "markdown",
   "metadata": {},
   "source": [
    "## Application to the model"
   ]
  },
  {
   "attachments": {},
   "cell_type": "markdown",
   "metadata": {},
   "source": [
    "### 4. Construct sample matrices $A, B ∈ R^{N×n}$"
   ]
  },
  {
   "cell_type": "code",
   "execution_count": 6,
   "metadata": {},
   "outputs": [
    {
     "name": "stdout",
     "output_type": "stream",
     "text": [
      "(1000, 4)\n",
      "(1000, 4)\n",
      "(4, 1000, 4)\n"
     ]
    }
   ],
   "source": [
    "from assignment2.lhs import latin_hypercube_uniform\n",
    "\n",
    "# Construct parameter domain like in assignment 2\n",
    "\n",
    "beta_range = [1, 3]  # average number of contacts per week\n",
    "alpha_range = [7/14, 7/2]  # mean latency rate per week\n",
    "gamma_range = [7/14, 7/7]  # mean recovery rate per week\n",
    "i0_range = [500, 2500]  # initial number of infected individuals\n",
    "\n",
    "param_domain = np.array([beta_range, alpha_range, gamma_range, i0_range])\n",
    "\n",
    "# construct samples A and B by LHS sampling\n",
    "dim = 4\n",
    "n_samples = 1000\n",
    "A = latin_hypercube_uniform(dim=dim, n_samples=n_samples, low=param_domain[:, 0], high=param_domain[:, 1])\n",
    "B = latin_hypercube_uniform(dim=dim, n_samples=n_samples, low=param_domain[:, 0], high=param_domain[:, 1])\n",
    "\n",
    "# prepare matrices to sample parameter combinations\n",
    "A_B = create_sobol_matrices(A, B)\n",
    "\n",
    "print(A.shape)\n",
    "print(B.shape)\n",
    "print(A_B.shape)"
   ]
  },
  {
   "attachments": {},
   "cell_type": "markdown",
   "metadata": {},
   "source": [
    "### 5. Compute vectors $\\mathcal{G}_l(A) ∈ R^N$ and $\\mathcal{G}_l(A_B^{(i)}) ∈ R^N$"
   ]
  },
  {
   "cell_type": "code",
   "execution_count": 7,
   "metadata": {},
   "outputs": [],
   "source": [
    "from assignment3.sobol import compute_QoIs_from_samples\n",
    "\n",
    "# Define initial conditions and parameters\n",
    "N = 80e6\n",
    "I0 = 1000\n",
    "S0 = N - I0\n",
    "E0 = 0\n",
    "R0 = 0\n",
    "C0 = I0\n",
    "y0 = [N, S0, E0, I0, R0, C0]\n",
    "\n",
    "# Simulation time\n",
    "T = 60\n",
    "t = np.linspace(0, T, T+1)\n",
    "\n",
    "# get QoI vectors by running seirc with samples from A\n",
    "g1_A, g2_A = compute_QoIs_from_samples(A, args=(y0, t))\n",
    "\n",
    "# get QoI vectors by running seirc with sample matrices from A_B\n",
    "qoIs_A_B = np.array([compute_QoIs_from_samples(A_Bi, args=(y0, t)) for A_Bi in A_B])\n",
    "g1_A_B, g2_A_B = qoIs_A_B[:, 0], qoIs_A_B[:, 1]"
   ]
  },
  {
   "attachments": {},
   "cell_type": "markdown",
   "metadata": {},
   "source": [
    "### 6. Compute all Sobol total-effect indices $S_{Ti}$"
   ]
  },
  {
   "cell_type": "code",
   "execution_count": 8,
   "metadata": {},
   "outputs": [
    {
     "name": "stdout",
     "output_type": "stream",
     "text": [
      "STis for G1: [0.81763777 0.03500248 0.26925006 0.00170741]\n",
      "STis for G2: [0.77182297 0.13843206 0.12748427 0.00774675]\n"
     ]
    }
   ],
   "source": [
    "sTi_g1 = compute_total_indices(g1_A, g1_A_B)\n",
    "sTi_g2 = compute_total_indices(g2_A, g2_A_B)\n",
    "\n",
    "print('STis for G1: %s' % sTi_g1)\n",
    "print('STis for G2: %s' % sTi_g2)"
   ]
  },
  {
   "attachments": {},
   "cell_type": "markdown",
   "metadata": {},
   "source": [
    "### 7.  Display the indices with a bar plot"
   ]
  },
  {
   "cell_type": "code",
   "execution_count": 9,
   "metadata": {},
   "outputs": [
    {
     "data": {
      "image/png": "[encoded data removed]",
      "text/plain": [
       "<Figure size 1100x500 with 2 Axes>"
      ]
     },
     "metadata": {},
     "output_type": "display_data"
    }
   ],
   "source": [
    "fig, (ax1, ax2) = plt.subplots(1, 2, figsize=(11, 5))\n",
    "labels = [r'$\\beta$', r'$\\alpha$', r'$\\gamma$', r'$I_0$']\n",
    "\n",
    "# sTi1 for G1\n",
    "bars1 = ax1.bar(labels, sTi_g1)\n",
    "ax1.set_ylim(0, 1)\n",
    "ax1.set_ylabel(r'$s_{Ti}$')\n",
    "ax1.set_title(r'Total-effect Sobol indices for $\\mathcal{G}_1$')\n",
    "\n",
    "# Adding the exact sTi values on the bars for G1\n",
    "for bar in bars1:\n",
    "    yval = bar.get_height()\n",
    "    ax1.text(bar.get_x() + bar.get_width()/2, yval + 0.01, round(yval, 2), ha='center', va='bottom')\n",
    "\n",
    "# sTi1 for G2\n",
    "bars2 = ax2.bar(labels, sTi_g2)\n",
    "ax2.set_ylim(0, 1)\n",
    "ax2.set_ylabel(r'$s_{Ti}$')\n",
    "ax2.set_title(r'Total-effect Sobol indices for $\\mathcal{G}_2$')\n",
    "\n",
    "# Adding the exact sTi1 values on the bars for G2\n",
    "for bar in bars2:\n",
    "    yval = bar.get_height()\n",
    "    ax2.text(bar.get_x() + bar.get_width()/2, yval + 0.01, round(yval, 2), ha='center', va='bottom')\n",
    "\n",
    "plt.tight_layout()\n",
    "plt.show()"
   ]
  },
  {
   "attachments": {},
   "cell_type": "markdown",
   "metadata": {},
   "source": [
    "### 8. Find a way to quantify the \"amount of interaction between the variables\""
   ]
  },
  {
   "cell_type": "code",
   "execution_count": 10,
   "metadata": {},
   "outputs": [
    {
     "name": "stdout",
     "output_type": "stream",
     "text": [
      "Interaction between variables Xi in G1: 0.123598\n",
      "Interaction between variables Xi in G2: 0.045486\n"
     ]
    }
   ],
   "source": [
    "# sum of all sTi will be one if there's no interaction\n",
    "\n",
    "# interaction in G1\n",
    "sum_sTi_g1 = np.sum(sTi_g1)\n",
    "inter_Xi_g1 = sum_sTi_g1 - 1\n",
    "print(\"Interaction between variables Xi in G1: %.6f\" % inter_Xi_g1)\n",
    "\n",
    "# interaction in G2\n",
    "sum_sTi_g2 = np.sum(sTi_g2)\n",
    "inter_Xi_g2 = sum_sTi_g2 - 1\n",
    "print(\"Interaction between variables Xi in G2: %.6f\" % inter_Xi_g2)"
   ]
  }
 ],
 "metadata": {
  "kernelspec": {
   "display_name": "uq",
   "language": "python",
   "name": "python3"
  },
  "language_info": {
   "codemirror_mode": {
    "name": "ipython",
    "version": 3
   },
   "file_extension": ".py",
   "mimetype": "text/x-python",
   "name": "python",
   "nbconvert_exporter": "python",
   "pygments_lexer": "ipython3",
   "version": "3.11.0"
  },
  "orig_nbformat": 4
 },
 "nbformat": 4,
 "nbformat_minor": 2
}
