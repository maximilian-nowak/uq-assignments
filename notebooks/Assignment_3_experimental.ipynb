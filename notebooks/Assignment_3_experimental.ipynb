{
 "cells": [
  {
   "attachments": {},
   "cell_type": "markdown",
   "metadata": {},
   "source": [
    "# Assignment 3: Sensitivity Analysis with Sobol Indices\n",
    "#### Moritz Kick, Maximilian Nowak"
   ]
  },
  {
   "cell_type": "code",
   "execution_count": 2,
   "metadata": {},
   "outputs": [],
   "source": [
    "# Import modules from source\n",
    "import os, sys\n",
    "module_path = os.path.abspath(os.path.join('../src'))\n",
    "if module_path not in sys.path:\n",
    "    sys.path.append(module_path)\n",
    "\n",
    "import numpy as np\n",
    "import matplotlib.pyplot as plt\n",
    "import numpy.linalg as lin\n",
    "\n",
    "# from sinfo import sinfo\n",
    "# sinfo()"
   ]
  },
  {
   "attachments": {},
   "cell_type": "markdown",
   "metadata": {},
   "source": [
    "## Implementation of Sobol indices"
   ]
  },
  {
   "attachments": {},
   "cell_type": "markdown",
   "metadata": {},
   "source": [
    "### 1. Implement the construction of Sobol matrices"
   ]
  },
  {
   "cell_type": "code",
   "execution_count": 3,
   "metadata": {},
   "outputs": [],
   "source": [
    "from assignment3.sobol import create_sobol_matrices\n",
    "\n",
    "pass"
   ]
  },
  {
   "attachments": {},
   "cell_type": "markdown",
   "metadata": {},
   "source": [
    "### 2. Implement the computation of Sobol total-effect indices"
   ]
  },
  {
   "cell_type": "code",
   "execution_count": 4,
   "metadata": {},
   "outputs": [],
   "source": [
    "from assignment3.sobol import compute_total_indices\n",
    "\n",
    "pass"
   ]
  },
  {
   "attachments": {},
   "cell_type": "markdown",
   "metadata": {},
   "source": [
    "### 3. Verify your implementation"
   ]
  },
  {
   "cell_type": "code",
   "execution_count": 5,
   "metadata": {},
   "outputs": [
    {
     "name": "stdout",
     "output_type": "stream",
     "text": [
      "(2,)\n",
      "0.239348 0.786769\n"
     ]
    }
   ],
   "source": [
    "from assignment2.lhs import latin_hypercube_uniform\n",
    "\n",
    "# Generate Latin hypercube samples\n",
    "n_samples = 1000\n",
    "dim = 2\n",
    "\n",
    "# Generate random samples\n",
    "A, B = latin_hypercube_uniform(dim, n_samples), latin_hypercube_uniform(dim, n_samples)\n",
    "\n",
    "# Get sobol matrix\n",
    "A_b = create_sobol_matrices(A, B)\n",
    "\n",
    "# Define test functions\n",
    "f1 = lambda X: X[:, 0] + X[:, 1]\n",
    "f2 = lambda X: X[:, 0] + 2*X[:, 1]**4\n",
    "f3 = lambda X: X[:, 0] + 1/np.tan(np.pi * X[:, 1])\n",
    "f = f2\n",
    "f_A = f(A)\n",
    "f_AB = np.array([f(X) for X in A_b])\n",
    "r = compute_total_indices(f_A, f_AB)\n",
    "print(r.shape)\n",
    "print(\"%.6f %.6f\" % (r[0], r[1]))"
   ]
  },
  {
   "attachments": {},
   "cell_type": "markdown",
   "metadata": {},
   "source": [
    "## Application to the model"
   ]
  },
  {
   "attachments": {},
   "cell_type": "markdown",
   "metadata": {},
   "source": [
    "### 4. Construct sample matrices $A, B ∈ R^{N×n}$"
   ]
  },
  {
   "cell_type": "code",
   "execution_count": 7,
   "metadata": {},
   "outputs": [
    {
     "name": "stdout",
     "output_type": "stream",
     "text": [
      "(1000, 4)\n",
      "(1000, 4)\n"
     ]
    }
   ],
   "source": [
    "from assignment2.lhs import latin_hypercube_uniform\n",
    "\n",
    "# Construct parameter domain like in assignment 2\n",
    "beta_range = [1, 3]  # average number of contacts per week\n",
    "alpha_range = [7/14, 7/2]  # mean latency rate per week\n",
    "gamma_range = [7/14, 7/7]  # mean recovery rate per week\n",
    "i0_range = [500, 2500]  # initial number of infected individuals\n",
    "\n",
    "param_domain = np.array([beta_range, alpha_range, gamma_range, i0_range])\n",
    "\n",
    "# LHS sampling\n",
    "dim = 4\n",
    "n_samples = 1000\n",
    "A = latin_hypercube_uniform(dim=dim, n_samples=n_samples, low=param_domain[:, 0], high=param_domain[:, 1])\n",
    "B = latin_hypercube_uniform(dim=dim, n_samples=n_samples, low=param_domain[:, 0], high=param_domain[:, 1])\n",
    "\n",
    "print(A.shape)\n",
    "print(B.shape)"
   ]
  },
  {
   "attachments": {},
   "cell_type": "markdown",
   "metadata": {},
   "source": [
    "### 5. Compute vectors $G_l(A) ∈ R^N$ and $G_l(A^{(i)}) ∈ R^N$"
   ]
  },
  {
   "cell_type": "code",
   "execution_count": 8,
   "metadata": {},
   "outputs": [],
   "source": [
    "from assignment1.seir import seirc_model, G1, G2\n",
    "\n",
    "beta = 14/9  # infection rate\n",
    "alpha = 7/3  # incubation rate\n",
    "gamma = 7/9  # recovery rate\n",
    "i0 = 1000  # initial number of infected individuals\n",
    "\n",
    "# Define initial conditions\n",
    "N = 80e6\n",
    "S0 = N - i0\n",
    "E0 = 0\n",
    "I0 = i0\n",
    "R0 = 0\n",
    "C0 = I0\n",
    "\n",
    "# Simulation time\n",
    "T = 60\n",
    "t = np.linspace(0, T, T+1)"
   ]
  },
  {
   "cell_type": "code",
   "execution_count": 9,
   "metadata": {},
   "outputs": [],
   "source": [
    "# prepare matrix A_b to sample parameter combinations\n",
    "A_b = create_sobol_matrices(A, B)\n",
    "\n",
    "# Apply g1 and g2 to A\n",
    "A_g1 = []\n",
    "A_g2 = []\n",
    "\n",
    "for beta, alpha, gamma, i0 in A:\n",
    "    S0 = N - i0\n",
    "    y0 = [S0, E0, i0, R0, C0]  # update initial conditions with current sample of i0\n",
    "    sol = seirc_model((beta, alpha, gamma, N)).solve(t, y0)\n",
    "    A_g1.append(G1(sol[:, 4]))\n",
    "    A_g2.append(G2(sol[:, 2], t))\n",
    "\n",
    "A_g1 = np.array(A_g1)\n",
    "A_g2 = np.array(A_g2)\n",
    "\n",
    "\n",
    "# Apply g1 and g2 to matrix of A_b\n",
    "A_b_g1 = []\n",
    "A_b_g2 = []\n",
    "for A_bi in A_b:\n",
    "    A_bi_g1 = []\n",
    "    A_bi_g2 = []\n",
    "\n",
    "    for beta, alpha, gamma, i0 in A_bi:\n",
    "        S0 = N - i0\n",
    "        y0 = [S0, E0, i0, R0, C0]  # update initial conditions with current sample of i0\n",
    "        sol = seirc_model((beta, alpha, gamma, N)).solve(t, y0)\n",
    "        A_bi_g1.append(G1(sol[:, 4]))\n",
    "        A_bi_g2.append(G2(sol[:, 2], t))\n",
    "\n",
    "    A_b_g1.append(np.array(A_bi_g1))\n",
    "    A_b_g2.append(np.array(A_bi_g2))\n",
    "\n",
    "A_b_g1 = np.array(A_b_g1)\n",
    "A_b_g2 = np.array(A_b_g2)"
   ]
  },
  {
   "attachments": {},
   "cell_type": "markdown",
   "metadata": {},
   "source": [
    "### 6. Compute all Sobol total-effect indices $S_{Ti}$"
   ]
  },
  {
   "cell_type": "code",
   "execution_count": 10,
   "metadata": {},
   "outputs": [],
   "source": [
    "sTi_g1 = compute_total_indices(A_g1, A_b_g1)\n",
    "sTi_g2 = compute_total_indices(A_g2, A_b_g2)"
   ]
  },
  {
   "attachments": {},
   "cell_type": "markdown",
   "metadata": {},
   "source": [
    "### 7.  Display the indices with a bar plot"
   ]
  },
  {
   "cell_type": "code",
   "execution_count": 16,
   "metadata": {},
   "outputs": [
    {
     "data": {
      "image/png": "[encoded data removed]",
      "text/plain": [
       "<Figure size 800x1000 with 2 Axes>"
      ]
     },
     "metadata": {},
     "output_type": "display_data"
    }
   ],
   "source": [
    "fig, (ax1, ax2) = plt.subplots(2, 1, figsize=(8, 10))\n",
    "labels = [r'$\\beta$', r'$\\alpha$', r'$\\gamma$', r'$I_0$']\n",
    "\n",
    "# PRCCs for G1\n",
    "bars1 = ax1.bar(labels, sTi_g1)\n",
    "ax1.set_ylabel(r'$s_{Ti}$')\n",
    "ax1.set_title(r'$s_{Ti}$ for $\\mathcal{G}_1$ (cumulative number of cases)')\n",
    "\n",
    "# Adding the exact PRCC values on the bars for G1\n",
    "for bar in bars1:\n",
    "    yval = bar.get_height()\n",
    "    ax1.text(bar.get_x() + bar.get_width()/2, yval + 0.01, round(yval, 2), ha='center', va='bottom')\n",
    "\n",
    "# PRCCs for G2\n",
    "bars2 = ax2.bar(labels, sTi_g2)\n",
    "ax2.set_ylabel(r'$s_{Ti}$')\n",
    "ax2.set_title(r'$s_{Ti}$ for $\\mathcal{G}_2$ (t at maximum number of infectious people)')\n",
    "\n",
    "# Adding the exact PRCC values on the bars for G2\n",
    "for bar in bars2:\n",
    "    yval = bar.get_height()\n",
    "    ax2.text(bar.get_x() + bar.get_width()/2, yval + 0.01, round(yval, 2), ha='center', va='bottom')\n",
    "\n",
    "plt.tight_layout()\n",
    "plt.show()"
   ]
  },
  {
   "attachments": {},
   "cell_type": "markdown",
   "metadata": {},
   "source": [
    "### 8. Find a way to quantify the \"amount of interaction between the variables\""
   ]
  },
  {
   "cell_type": "code",
   "execution_count": 9,
   "metadata": {},
   "outputs": [],
   "source": [
    "# implementation of task 8"
   ]
  },
  {
   "attachments": {},
   "cell_type": "markdown",
   "metadata": {},
   "source": [
    "### 9. Compare the indices with the PRCCs from Assignment 2"
   ]
  },
  {
   "cell_type": "code",
   "execution_count": 10,
   "metadata": {},
   "outputs": [],
   "source": [
    "# implementation of task 9"
   ]
  }
 ],
 "metadata": {
  "kernelspec": {
   "display_name": "uq",
   "language": "python",
   "name": "python3"
  },
  "language_info": {
   "codemirror_mode": {
    "name": "ipython",
    "version": 3
   },
   "file_extension": ".py",
   "mimetype": "text/x-python",
   "name": "python",
   "nbconvert_exporter": "python",
   "pygments_lexer": "ipython3",
   "version": "3.11.0"
  },
  "orig_nbformat": 4
 },
 "nbformat": 4,
 "nbformat_minor": 2
}
