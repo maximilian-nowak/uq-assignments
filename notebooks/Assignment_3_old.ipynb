{
 "cells": [
  {
   "attachments": {},
   "cell_type": "markdown",
   "metadata": {},
   "source": [
    "# Assignment 3: Sensitivity Analysis with Sobol Indices\n",
    "#### Moritz Kick, Maximilian Nowak"
   ]
  },
  {
   "cell_type": "code",
   "execution_count": 53,
   "metadata": {},
   "outputs": [],
   "source": [
    "# Import modules from source\n",
    "import os, sys\n",
    "module_path = os.path.abspath(os.path.join('../src'))\n",
    "if module_path not in sys.path:\n",
    "    sys.path.append(module_path)\n",
    "\n",
    "import numpy as np\n",
    "import matplotlib.pyplot as plt\n",
    "import numpy.linalg as lin\n",
    "from assignment2.lhs import latin_hypercube_uniform\n",
    "\n",
    "# from sinfo import sinfo\n",
    "# sinfo()"
   ]
  },
  {
   "cell_type": "code",
   "execution_count": 54,
   "metadata": {},
   "outputs": [],
   "source": [
    "from assignment1.seir import seirc_model, G1, G2\n",
    "\n",
    "beta = 14/9  # infection rate\n",
    "alpha = 7/3  # incubation rate\n",
    "gamma = 7/9  # recovery rate\n",
    "i0 = 1000  # initial number of infected individuals\n",
    "\n",
    "# Define initial conditions\n",
    "N = 80e6\n",
    "S0 = N - i0\n",
    "E0 = 0\n",
    "I0 = i0\n",
    "R0 = 0\n",
    "C0 = I0\n",
    "y0 = [S0, E0, I0, R0, C0]"
   ]
  },
  {
   "attachments": {},
   "cell_type": "markdown",
   "metadata": {},
   "source": [
    "## Implementation of Sobol indices"
   ]
  },
  {
   "attachments": {},
   "cell_type": "markdown",
   "metadata": {},
   "source": [
    "### 1. Implement the construction of Sobol matrices"
   ]
  },
  {
   "cell_type": "code",
   "execution_count": 55,
   "metadata": {},
   "outputs": [],
   "source": [
    "def create_sobol_matrices(A, B):\n",
    "    n = A.shape[1]  # number of parameters\n",
    "    N = A.shape[0]  # number of samples\n",
    "\n",
    "    # Initialize Sobol matrices with shape (n, N, n)\n",
    "    A_B = np.empty((n, N, n))\n",
    "\n",
    "    # Generate Sobol matrices\n",
    "    for i in range(n):\n",
    "        A_B[i] = A.copy()  # start with a copy of A\n",
    "        A_B[i, :, i] = B[:, i]  # replace the i-th column with B's i-th column\n",
    "\n",
    "    return A_B\n"
   ]
  },
  {
   "attachments": {},
   "cell_type": "markdown",
   "metadata": {},
   "source": [
    "### 2. Implement the computation of Sobol total-effect indices"
   ]
  },
  {
   "cell_type": "code",
   "execution_count": 56,
   "metadata": {},
   "outputs": [],
   "source": [
    "def compute_total_indices(f_A, f_A_B):\n",
    "    # number of parameters\n",
    "    n = f_A_B.shape[0]\n",
    "\n",
    "    # Compute the variance\n",
    "    var_f_A = np.var(f_A, ddof=1)\n",
    "\n",
    "    # Compute total-effect indices\n",
    "    S_T = np.empty(n)\n",
    "    for i in range(n):\n",
    "        S_T[i] = np.mean((f_A - f_A_B[i, :])**2) / (2.0 * var_f_A)\n",
    "    return S_T\n"
   ]
  },
  {
   "attachments": {},
   "cell_type": "markdown",
   "metadata": {},
   "source": [
    "### 3. Verify your implementation"
   ]
  },
  {
   "attachments": {},
   "cell_type": "markdown",
   "metadata": {},
   "source": [
    "Create a simple mathematical function as your Quantity of Interest (QoI). Let's say the QoI is a quadratic function, $f(x, y, z, w) = x^2 + y^2 + z^2 + w^2$. This function has a known Sobol index for each parameter: each one contributes 25% of the total variance."
   ]
  },
  {
   "cell_type": "code",
   "execution_count": 57,
   "metadata": {},
   "outputs": [
    {
     "name": "stdout",
     "output_type": "stream",
     "text": [
      "Total-effect indices:  [0.25127123 0.24490062 0.24399524 0.24998188]\n"
     ]
    }
   ],
   "source": [
    "# Test function\n",
    "def f(x):\n",
    "    return np.sum(x**2, axis=1)\n",
    "\n",
    "# Generate test inputs using LHS\n",
    "np.random.seed(0)\n",
    "n_samples = 10000\n",
    "dim = 4\n",
    "A = latin_hypercube_uniform(dim, n_samples)\n",
    "B = latin_hypercube_uniform(dim, n_samples)\n",
    "\n",
    "# Compute Sobol matrices\n",
    "A_B = create_sobol_matrices(A, B)\n",
    "\n",
    "# Compute test function values\n",
    "f_A = f(A)\n",
    "f_A_B = np.array([f(A_B[i]) for i in range(dim)])\n",
    "\n",
    "# Compute Sobol total-effect indices\n",
    "S_T = compute_total_indices(f_A, f_A_B)\n",
    "\n",
    "print('Total-effect indices: ', S_T)\n"
   ]
  },
  {
   "attachments": {},
   "cell_type": "markdown",
   "metadata": {},
   "source": [
    "## Application to the model"
   ]
  },
  {
   "attachments": {},
   "cell_type": "markdown",
   "metadata": {},
   "source": [
    "### 4. Construct sample matrices $A, B ∈ R^{N×n}$"
   ]
  },
  {
   "cell_type": "code",
   "execution_count": 58,
   "metadata": {},
   "outputs": [],
   "source": [
    "np.random.seed(0)\n",
    "n_samples = 10000\n",
    "dim = 4\n",
    "A = latin_hypercube_uniform(dim, n_samples)\n",
    "B = latin_hypercube_uniform(dim, n_samples)"
   ]
  },
  {
   "attachments": {},
   "cell_type": "markdown",
   "metadata": {},
   "source": [
    "### 5. Compute vectors $G_l(A) ∈ R^N$ and $G_l(A^{(i)}) ∈ R^N$"
   ]
  },
  {
   "cell_type": "code",
   "execution_count": 59,
   "metadata": {},
   "outputs": [
    {
     "name": "stdout",
     "output_type": "stream",
     "text": [
      " lsoda--  at t(=r1) and step size h(=r2), the error\u0000\u0000\n",
      "       test failed repeatedly or with abs(h) = hmin\u0000\u0000\n",
      "      in above,  r1 =  0.1692664310648D+02   r2 =  0.9967769802085D-09\n",
      " lsoda--  at t(=r1) and step size h(=r2), the error\u0000\u0000\n",
      "       test failed repeatedly or with abs(h) = hmin\u0000\u0000\n",
      "      in above,  r1 =  0.4319057797863D+02   r2 =  0.1226204143673D-07\n",
      " lsoda--  at t(=r1) and step size h(=r2), the error\u0000\u0000\n",
      "       test failed repeatedly or with abs(h) = hmin\u0000\u0000\n",
      "      in above,  r1 =  0.5411806451016D+01   r2 =  0.6879994197492D-09\n",
      " lsoda--  at t(=r1) and step size h(=r2), the error\u0000\u0000\n",
      "       test failed repeatedly or with abs(h) = hmin\u0000\u0000\n",
      "      in above,  r1 =  0.5322686418049D+02   r2 =  0.1167943266874D-07\n",
      " lsoda--  at t(=r1) and step size h(=r2), the error\u0000\u0000\n",
      "       test failed repeatedly or with abs(h) = hmin\u0000\u0000\n",
      "      in above,  r1 =  0.3116228370310D+02   r2 =  0.3902625199579D-08\n",
      " lsoda--  at t(=r1) and step size h(=r2), the error\u0000\u0000\n",
      "       test failed repeatedly or with abs(h) = hmin\u0000\u0000\n",
      "      in above,  r1 =  0.4520887611450D+01   r2 =  0.6684356073734D-09\n",
      " lsoda--  at t(=r1) and step size h(=r2), the error\u0000\u0000\n",
      "       test failed repeatedly or with abs(h) = hmin\u0000\u0000\n",
      "      in above,  r1 =  0.8084467367089D+01   r2 =  0.1058252696555D-08\n",
      " lsoda--  at t(=r1) and step size h(=r2), the error\u0000\u0000\n",
      "       test failed repeatedly or with abs(h) = hmin\u0000\u0000\n",
      "      in above,  r1 =  0.1050766374883D+02   r2 =  0.1294951126711D-08\n",
      " lsoda--  at t(=r1) and step size h(=r2), the error\u0000\u0000\n",
      "       test failed repeatedly or with abs(h) = hmin\u0000\u0000\n",
      "      in above,  r1 =  0.2769419178888D+02   r2 =  0.6727638189257D-08\n",
      " lsoda--  at t(=r1) and step size h(=r2), the error\u0000\u0000\n",
      "       test failed repeatedly or with abs(h) = hmin\u0000\u0000\n",
      "      in above,  r1 =  0.2399276813604D+02   r2 =  0.1804948408962D-08\n",
      " lsoda--  at t(=r1) and step size h(=r2), the error\u0000\u0000\n",
      "       test failed repeatedly or with abs(h) = hmin\u0000\u0000\n",
      "      in above,  r1 =  0.3981055041015D+02   r2 =  0.4170463502174D-08\n",
      " lsoda--  at t(=r1) and step size h(=r2), the error\u0000\u0000\n",
      "       test failed repeatedly or with abs(h) = hmin\u0000\u0000\n",
      "      in above,  r1 =  0.5459514404805D+01   r2 =  0.6881931971817D-09\n",
      " lsoda--  at t(=r1) and step size h(=r2), the error\u0000\u0000\n",
      "       test failed repeatedly or with abs(h) = hmin\u0000\u0000\n",
      "      in above,  r1 =  0.1142383597164D+02   r2 =  0.2332764115942D-08\n",
      " lsoda--  at t(=r1) and step size h(=r2), the error\u0000\u0000\n",
      "       test failed repeatedly or with abs(h) = hmin\u0000\u0000\n",
      "      in above,  r1 =  0.2645198760312D+02   r2 =  0.2687820853482D-08\n"
     ]
    }
   ],
   "source": [
    "# Define the time array outside of run_seirc\n",
    "t = np.arange(0, 61, 1)  # for 60 weeks\n",
    "\n",
    "def run_seirc(x):\n",
    "    # Convert x to a tuple\n",
    "    x = tuple(x)\n",
    "    # Use the parameters from x to run the model\n",
    "    seirc = seirc_model(x)\n",
    "    output = seirc.solve(t, y0)\n",
    "    return output\n",
    "\n",
    "# Then leave the rest of your code as is:\n",
    "outputs_A = np.array([run_seirc(A[i, :]) for i in range(n_samples)])\n",
    "outputs_A_B = np.array([[run_seirc(A_B[j, i, :]) for i in range(n_samples)] for j in range(dim)])\n",
    "\n",
    "G1_A = G1(outputs_A)\n",
    "G1_A_B = np.array([G1(outputs_A_B[j]) for j in range(dim)])\n",
    "\n",
    "G2_A = G2(outputs_A, t)\n",
    "G2_A_B = np.array([G2(outputs_A_B[j], t) for j in range(dim)])\n"
   ]
  },
  {
   "attachments": {},
   "cell_type": "markdown",
   "metadata": {},
   "source": [
    "### 6. Compute all Sobol total-effect indices $S_T$"
   ]
  },
  {
   "cell_type": "code",
   "execution_count": 60,
   "metadata": {},
   "outputs": [
    {
     "name": "stdout",
     "output_type": "stream",
     "text": [
      "Total-effect indices for G1:  [0.000677   0.02165939 0.01495827 0.00059316]\n",
      "Total-effect indices for G2:  [0.00121953 0.02110196 0.00603184 0.00109152]\n"
     ]
    }
   ],
   "source": [
    "S_T_G1 = compute_total_indices(G1_A, G1_A_B)\n",
    "S_T_G2 = compute_total_indices(G2_A, G2_A_B)\n",
    "\n",
    "print('Total-effect indices for G1: ', S_T_G1)\n",
    "print('Total-effect indices for G2: ', S_T_G2)\n"
   ]
  },
  {
   "attachments": {},
   "cell_type": "markdown",
   "metadata": {},
   "source": [
    "### 7.  Display the indices with a bar plot"
   ]
  },
  {
   "cell_type": "code",
   "execution_count": 73,
   "metadata": {},
   "outputs": [
    {
     "data": {
      "image/png": "[encoded data removed]",
      "text/plain": [
       "<Figure size 640x480 with 1 Axes>"
      ]
     },
     "metadata": {},
     "output_type": "display_data"
    },
    {
     "data": {
      "image/png": "[encoded data removed]",
      "text/plain": [
       "<Figure size 640x480 with 1 Axes>"
      ]
     },
     "metadata": {},
     "output_type": "display_data"
    }
   ],
   "source": [
    "n = ['beta', 'alpha', 'gamma', 'i0']\n",
    "plt.title('Total-effect indices for G1')\n",
    "plt.bar(n, S_T_G1)\n",
    "plt.xlabel('Parameter')\n",
    "plt.ylabel('Total-effect index')\n",
    "plt.show()\n",
    "\n",
    "plt.title('Total-effect indices for G2')\n",
    "plt.bar(n, S_T_G2)\n",
    "plt.xlabel('Parameter')\n",
    "plt.ylabel('Total-effect index')\n",
    "plt.show()\n"
   ]
  },
  {
   "attachments": {},
   "cell_type": "markdown",
   "metadata": {},
   "source": [
    "### 8. Find a way to quantify the \"amount of interaction between the variables\""
   ]
  },
  {
   "attachments": {},
   "cell_type": "markdown",
   "metadata": {},
   "source": [
    "To quantify the \"amount of interaction between variables\" in the context of a sensitivity analysis, you can look at \"higher-order\" sensitivity indices. The Sobol sensitivity indices we have calculated include both \"first-order\" indices, which represent the individual effect of each input variable on the output, and \"total-order\" indices, which represent the combined effect of each input variable and its interactions with all other variables.\n",
    "\n",
    "The difference between the total-order and first-order indices for a given variable can give us a measure of the \"amount of interaction\" that variable has with the other variables. If the total and first order indices are close, it means that the variable mostly contributes alone to the output variance. If the total order index is much higher than the first order one, it means the variable often contributes through its interactions with other variables."
   ]
  },
  {
   "cell_type": "code",
   "execution_count": null,
   "metadata": {},
   "outputs": [],
   "source": [
    "# implementation of task 8"
   ]
  },
  {
   "attachments": {},
   "cell_type": "markdown",
   "metadata": {},
   "source": [
    "### 9. Compare the indices with the PRCCs from Assignment 2"
   ]
  },
  {
   "attachments": {},
   "cell_type": "markdown",
   "metadata": {},
   "source": [
    "For comparing the Sobol indices with the Partial Rank Correlation Coefficients (PRCCs) from Assignment 2, we need to keep in mind that they measure slightly different things:\n",
    "- The PRCCs measure the strength and direction of the monotonic relationship between each input variable and the output, while holding all other variables constant. If a PRCC is close to 1 or -1, it suggests a strong positive or negative relationship, while a PRCC close to 0 suggests no relationship. PRCCs do not capture interactions between variables.\n",
    "\n",
    "- The Sobol indices measure the proportion of the output variance that is due to each input variable, either alone (first-order) or in combination with others (total-order). If a Sobol index is close to 1, it suggests that the corresponding variable has a large effect on the output variance, while a Sobol index close to 0 suggests a small effect.\n"
   ]
  },
  {
   "cell_type": "code",
   "execution_count": null,
   "metadata": {},
   "outputs": [],
   "source": [
    "# implementation of task 9"
   ]
  }
 ],
 "metadata": {
  "kernelspec": {
   "display_name": "uq",
   "language": "python",
   "name": "python3"
  },
  "language_info": {
   "codemirror_mode": {
    "name": "ipython",
    "version": 3
   },
   "file_extension": ".py",
   "mimetype": "text/x-python",
   "name": "python",
   "nbconvert_exporter": "python",
   "pygments_lexer": "ipython3",
   "version": "3.11.0"
  },
  "orig_nbformat": 4
 },
 "nbformat": 4,
 "nbformat_minor": 2
}
